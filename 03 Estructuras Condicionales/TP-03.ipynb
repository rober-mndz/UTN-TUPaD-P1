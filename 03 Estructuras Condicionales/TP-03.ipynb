{
 "cells": [
  {
   "cell_type": "code",
   "execution_count": null,
   "metadata": {},
   "outputs": [
    {
     "name": "stdout",
     "output_type": "stream",
     "text": [
      "Es mayor de edad\n"
     ]
    }
   ],
   "source": [
    "## EJERCICIO 1\n",
    "edad = int(input(\"Ingrese su edad\"))\n",
    "\n",
    "if (edad > 18):\n",
    "    print(\"Es mayor de edad\")"
   ]
  },
  {
   "cell_type": "code",
   "execution_count": null,
   "metadata": {},
   "outputs": [
    {
     "name": "stdout",
     "output_type": "stream",
     "text": [
      "desaprobado\n"
     ]
    }
   ],
   "source": [
    "## EJERCICIO 2\n",
    "nota = int(input(\"Ingrese su nota\"))\n",
    "\n",
    "if (nota >= 6):\n",
    "    print(\"aprobado\")\n",
    "else:\n",
    "    print(\"desaprobado\")"
   ]
  },
  {
   "cell_type": "code",
   "execution_count": null,
   "metadata": {},
   "outputs": [
    {
     "name": "stdout",
     "output_type": "stream",
     "text": [
      "Ha ingresado un numero par\n"
     ]
    }
   ],
   "source": [
    "## EJERCICIO 3\n",
    "numero = int(input(\"Ingrese un numero par\"))\n",
    "\n",
    "if (numero % 2 == 0):\n",
    "    print(\"Ha ingresado un numero par\")\n",
    "else:\n",
    "    print(\"Por favor, ingrese un numero par\")"
   ]
  },
  {
   "cell_type": "code",
   "execution_count": null,
   "metadata": {},
   "outputs": [
    {
     "name": "stdout",
     "output_type": "stream",
     "text": [
      "Es ud. un Adulto joven\n"
     ]
    }
   ],
   "source": [
    "## EJERCICIO 4\n",
    "edad = int(input(\"Ingrese su edad\"))\n",
    "\n",
    "if (edad >= 0 and edad <12):\n",
    "    print(\"Es ud. un niño\")\n",
    "elif (edad >= 12 and edad < 18):\n",
    "    print(\"Es ud. un adolescente\")\n",
    "elif (edad >= 18 and edad < 30):\n",
    "    print(\"Es ud. un Adulto joven\")\n",
    "elif (edad >=30):\n",
    "    print(\"Es ud. un Adulto mayor\")\n"
   ]
  },
  {
   "cell_type": "code",
   "execution_count": null,
   "metadata": {},
   "outputs": [
    {
     "name": "stdout",
     "output_type": "stream",
     "text": [
      "Por favor, ingrese una contraseña de entre 8 y 14 caracteres\n"
     ]
    }
   ],
   "source": [
    "## EJERCICIO 5\n",
    "password = len(input(\"Ingrese una contraseña\"))\n",
    "\n",
    "if (password >= 8 and password <= 14):\n",
    "    print(\"Ha ingresado una contraseña correcta\")\n",
    "else:\n",
    "    print(\"Por favor, ingrese una contraseña de entre 8 y 14 caracteres\")"
   ]
  },
  {
   "cell_type": "code",
   "execution_count": null,
   "metadata": {},
   "outputs": [
    {
     "name": "stdout",
     "output_type": "stream",
     "text": [
      "Sesgo negativo\n"
     ]
    }
   ],
   "source": [
    "## EJERCICIO 6\n",
    "import random\n",
    "from statistics import mode, median, mean\n",
    "\n",
    "numeros_aleatorios = [random.randint(1, 100) for i in range(50)]\n",
    "media = mean(numeros_aleatorios)\n",
    "mediana = median(numeros_aleatorios)\n",
    "moda = mode(numeros_aleatorios)\n",
    "\n",
    "if (media > mediana and mediana > moda):\n",
    "    print(\"Sesgo positivo\")\n",
    "elif (media < mediana and mediana < moda):\n",
    "    print(\"Sesgo negativo\")\n",
    "elif (media == mediana and mediana == moda):\n",
    "    print(\"No hay sesgo\")"
   ]
  },
  {
   "cell_type": "code",
   "execution_count": null,
   "metadata": {},
   "outputs": [],
   "source": [
    "## Ejercicio 7\n",
    "palabra = input(\"Ingrese una palabra/frase\")\n",
    "vocales = \"aeiouAEIOU\"\n",
    "\n",
    "if (palabra[len(palabra) - 1] in vocales):\n",
    "    palabra = palabra + \"!\"\n",
    "    print(palabra)\n",
    "else:\n",
    "    print(palabra)"
   ]
  },
  {
   "cell_type": "code",
   "execution_count": null,
   "metadata": {},
   "outputs": [
    {
     "name": "stdout",
     "output_type": "stream",
     "text": [
      "JAMON\n"
     ]
    }
   ],
   "source": [
    "## Ejercicio 8\n",
    "nombre = input(\"Ingrese su nombre\")\n",
    "opcion = int(input(\"Ingrese: 1 para mayusculas, 2 para minusculas, 3 capitalized\"))\n",
    "\n",
    "if (opcion == 1):\n",
    "    print(nombre.upper())\n",
    "elif (opcion == 2):\n",
    "    print(nombre.lower())\n",
    "elif (opcion == 3):\n",
    "    print(nombre.title())\n",
    "else:\n",
    "    print(\"Por favor, seleccione una de las opciones posibles.\")"
   ]
  },
  {
   "cell_type": "code",
   "execution_count": 23,
   "metadata": {},
   "outputs": [
    {
     "name": "stdout",
     "output_type": "stream",
     "text": [
      "Leve\n"
     ]
    }
   ],
   "source": [
    "## Ejercicio 9\n",
    "magnitud = int(input(\"Ingrese la magnitud del terremoto\"))\n",
    "\n",
    "if (magnitud < 3): print(\"Muy leve\")\n",
    "elif (magnitud >= 3 and magnitud < 4): print(\"Leve\")\n",
    "elif (magnitud >= 4 and magnitud < 5): print(\"Moderado\")\n",
    "elif (magnitud >= 5 and magnitud < 6): print(\"Fuerte\")\n",
    "elif (magnitud >= 6 and magnitud < 7): print(\"Muy Fuerte\")\n",
    "elif (magnitud >= 7): print(\"Extremo\")\n",
    "else: pass"
   ]
  },
  {
   "cell_type": "code",
   "execution_count": 25,
   "metadata": {},
   "outputs": [
    {
     "name": "stdout",
     "output_type": "stream",
     "text": [
      "Es otonio\n"
     ]
    }
   ],
   "source": [
    "## Ejercicio 10\n",
    "hemisferio = input(\"Ingrese en que hemisferio se encuentra: N/S\")\n",
    "mes = int(input(\"Ingrese el mes del anio: 1/12\"))\n",
    "dia = int(input(\"Ingrese el dia del mes\"))\n",
    "\n",
    "if (mes in [1, 2] or (mes == 12 and dia >= 21) or (mes == 3 and dia <= 20)):\n",
    "    if (hemisferio == \"S\"):\n",
    "        print(\"Es verano\")\n",
    "    else: print (\"Es invierno\")\n",
    "elif (mes in [4, 5] or (mes == 3 and dia >=21) or (mes == 6 and dia <=20)):\n",
    "    if (hemisferio == \"S\"):\n",
    "        print(\"Es otonio\")\n",
    "    else: print (\"Es primavera\")\n",
    "elif (mes in [7, 8] or (mes == 6 and dia >=21) or (mes == 9 and dia <=20)):\n",
    "    if (hemisferio == \"S\"):\n",
    "        print(\"Es invierno\")\n",
    "    else: print (\"Es verano\")\n",
    "elif (mes in [10, 11] or (mes == 9 and dia >=21) or (mes == 12 and dia <=20)):\n",
    "    if (hemisferio == \"S\"):\n",
    "        print(\"Es primavera\")\n",
    "    else: print (\"Es otonio\")"
   ]
  }
 ],
 "metadata": {
  "kernelspec": {
   "display_name": "Python 3",
   "language": "python",
   "name": "python3"
  },
  "language_info": {
   "codemirror_mode": {
    "name": "ipython",
    "version": 3
   },
   "file_extension": ".py",
   "mimetype": "text/x-python",
   "name": "python",
   "nbconvert_exporter": "python",
   "pygments_lexer": "ipython3",
   "version": "3.13.2"
  }
 },
 "nbformat": 4,
 "nbformat_minor": 2
}

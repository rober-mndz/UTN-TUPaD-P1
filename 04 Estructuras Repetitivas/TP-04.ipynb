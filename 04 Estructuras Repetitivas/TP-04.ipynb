{
 "cells": [
  {
   "cell_type": "code",
   "execution_count": null,
   "metadata": {},
   "outputs": [],
   "source": [
    "## EJERCICIO 1\n",
    "\n",
    "for i in range(0, 101):\n",
    "    print(i)"
   ]
  },
  {
   "cell_type": "code",
   "execution_count": null,
   "metadata": {},
   "outputs": [],
   "source": [
    "## EJERCICIO 2\n",
    "\n",
    "num = input(\"Ingrese un numero entero:\")\n",
    "cont = 0\n",
    "\n",
    "for c in num:\n",
    "    cont += 1\n",
    "    \n",
    "print(cont)"
   ]
  },
  {
   "cell_type": "code",
   "execution_count": null,
   "metadata": {},
   "outputs": [],
   "source": [
    "## EJERCICIO 3\n",
    "\n",
    "num1 = int(input(\"Ingrese un numero\"))\n",
    "num2 = int(input(\"Ingrese otro numero\"))\n",
    "suma = 0\n",
    "\n",
    "for i in range(num1 + 1, num2):\n",
    "    suma += i\n",
    "\n",
    "print(suma)"
   ]
  },
  {
   "cell_type": "code",
   "execution_count": null,
   "metadata": {},
   "outputs": [],
   "source": [
    "## EJERCICIO 4\n",
    "\n",
    "sumados = 0\n",
    "num = int(input(\"Ingrese un numero entero:\"))\n",
    "\n",
    "while (num != 0):\n",
    "    sumados += num\n",
    "    num = int(input(\"Ingrese un numero entero:\"))\n",
    "    \n",
    "print(sumados)"
   ]
  },
  {
   "cell_type": "code",
   "execution_count": null,
   "metadata": {},
   "outputs": [],
   "source": [
    "## EJERCICIO 5\n",
    "\n",
    "import random as rnd\n",
    "\n",
    "ganador = rnd.randint(0, 9)\n",
    "numeroUsuario = int(input(\"Adivine el numero ganador entre el 0 y el 9:\"))\n",
    "\n",
    "while ganador != numeroUsuario:\n",
    "    numeroUsuario = int(input(\"Adivine el numero ganador entre el 0 y el 9:\"))\n",
    "\n",
    "print(f\"Felicitaciones, el numero ganador era: {ganador}\")\n"
   ]
  },
  {
   "cell_type": "code",
   "execution_count": null,
   "metadata": {},
   "outputs": [],
   "source": [
    "## EJERCICIO 6\n",
    "\n",
    "for i in range(100, 1, -2):\n",
    "    print(i)\n",
    "    "
   ]
  },
  {
   "cell_type": "code",
   "execution_count": null,
   "metadata": {},
   "outputs": [],
   "source": [
    "## EJERCICIO 7\n",
    "\n",
    "num = int(input(\"Ingrese un numero entero:\"))\n",
    "suma = 0\n",
    "\n",
    "for i in range(0, num):\n",
    "    suma += i\n",
    "    \n",
    "print(suma)"
   ]
  },
  {
   "cell_type": "code",
   "execution_count": null,
   "metadata": {},
   "outputs": [],
   "source": [
    "## EJERCICIO 8\n",
    "\n",
    "pares = 0\n",
    "impares = 0\n",
    "negativos = 0\n",
    "positivos = 0\n",
    "\n",
    "for i in range(0, 6):\n",
    "    num = int(input(\"Ingrese un numero\"))\n",
    "    if((num % 2) == 0):\n",
    "        pares += 1\n",
    "    else:\n",
    "        impares += 1\n",
    "    if(num > 0):\n",
    "        positivos += 1\n",
    "    else:\n",
    "        negativos += 1\n",
    "        \n",
    "print(f\"{pares} numeros pares, {impares} impares, {positivos} positivos y {negativos} negativos.\")"
   ]
  },
  {
   "cell_type": "code",
   "execution_count": null,
   "metadata": {},
   "outputs": [],
   "source": [
    "## EJERCICIO 9\n",
    "acumulador = 0\n",
    "\n",
    "for i in range(0, 3):\n",
    "    num = int(input(\"Ingrese un numero\"))\n",
    "    acumulador += num\n",
    "\n",
    "print(acumulador/3)"
   ]
  },
  {
   "cell_type": "code",
   "execution_count": null,
   "metadata": {},
   "outputs": [],
   "source": [
    "num = int(input(\"Ingrese un numero:\"))\n",
    "invertido = 0\n",
    "\n",
    "while num > 0:\n",
    "    digito = num % 10\n",
    "    invertido = invertido * 10 + digito\n",
    "    num = num // 10\n",
    "    \n",
    "print(invertido)"
   ]
  }
 ],
 "metadata": {
  "kernelspec": {
   "display_name": "Python 3",
   "language": "python",
   "name": "python3"
  },
  "language_info": {
   "codemirror_mode": {
    "name": "ipython",
    "version": 3
   },
   "file_extension": ".py",
   "mimetype": "text/x-python",
   "name": "python",
   "nbconvert_exporter": "python",
   "pygments_lexer": "ipython3",
   "version": "3.13.2"
  }
 },
 "nbformat": 4,
 "nbformat_minor": 2
}

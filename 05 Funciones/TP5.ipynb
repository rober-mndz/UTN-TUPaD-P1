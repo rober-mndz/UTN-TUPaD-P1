{
 "cells": [
  {
   "cell_type": "code",
   "execution_count": 4,
   "id": "5789e506",
   "metadata": {},
   "outputs": [
    {
     "name": "stdout",
     "output_type": "stream",
     "text": [
      "[0, 4, 8, 12, 16, 20, 24, 28, 32, 36, 40, 44, 48, 52, 56, 60, 64, 68, 72, 76, 80, 84, 88, 92, 96, 100]\n"
     ]
    }
   ],
   "source": [
    "#Ejercicio 1\n",
    "lista = list(range(0, 101, 4))\n",
    "print(lista)"
   ]
  },
  {
   "cell_type": "code",
   "execution_count": 5,
   "id": "654b7836",
   "metadata": {},
   "outputs": [
    {
     "name": "stdout",
     "output_type": "stream",
     "text": [
      "False\n"
     ]
    }
   ],
   "source": [
    "#Ejercicio 2\n",
    "lista2 = [1, 2, True, False, [1, 2]]\n",
    "print(lista2[-2])"
   ]
  },
  {
   "cell_type": "code",
   "execution_count": 6,
   "id": "9cba16fe",
   "metadata": {},
   "outputs": [
    {
     "name": "stdout",
     "output_type": "stream",
     "text": [
      "['pepe', 'False', 'Python']\n"
     ]
    }
   ],
   "source": [
    "#Ejercicio 3\n",
    "lista3 = []\n",
    "lista3.append(\"pepe\")\n",
    "lista3.append(\"False\")\n",
    "lista3.append(\"Python\")\n",
    "print(lista3)"
   ]
  },
  {
   "cell_type": "code",
   "execution_count": 7,
   "id": "337d3200",
   "metadata": {},
   "outputs": [
    {
     "name": "stdout",
     "output_type": "stream",
     "text": [
      "['perro', 'loro', 'conejo', 'oso']\n"
     ]
    }
   ],
   "source": [
    "#Ejercicio 4\n",
    "animales = [\"perro\", \"gato\", \"conejo\", \"pez\"]\n",
    "animales[1] = \"loro\"\n",
    "animales[-1] = \"oso\"\n",
    "print(animales)\n"
   ]
  },
  {
   "cell_type": "code",
   "execution_count": 8,
   "id": "6b24439f",
   "metadata": {},
   "outputs": [
    {
     "name": "stdout",
     "output_type": "stream",
     "text": [
      "[10, 15]\n"
     ]
    }
   ],
   "source": [
    "#Ejercicio 6\n",
    "\n",
    "lista4 = list(range(10,31,5))\n",
    "print(lista4[0:2])"
   ]
  },
  {
   "cell_type": "code",
   "execution_count": 9,
   "id": "d8784783",
   "metadata": {},
   "outputs": [
    {
     "name": "stdout",
     "output_type": "stream",
     "text": [
      "['sedan', 'Up', 'Vitara', 'gol']\n"
     ]
    }
   ],
   "source": [
    "#Ejericico 7\n",
    "\n",
    "autos = [\"sedan\", \"polo\", \"suran\", \"gol\"]\n",
    "autos[1] = \"Up\"\n",
    "autos[2] = \"Vitara\"\n",
    "print(autos)"
   ]
  },
  {
   "cell_type": "code",
   "execution_count": 11,
   "id": "6bf14877",
   "metadata": {},
   "outputs": [
    {
     "name": "stdout",
     "output_type": "stream",
     "text": [
      "[10, 20, 30]\n"
     ]
    }
   ],
   "source": [
    "#Ejercicio 8\n",
    "\n",
    "dobles = []\n",
    "\n",
    "dobles.append(5*2)\n",
    "dobles.append(10*2)\n",
    "dobles.append(15*2)\n",
    "\n",
    "print(dobles)\n"
   ]
  },
  {
   "cell_type": "code",
   "execution_count": 12,
   "id": "dd6309d9",
   "metadata": {},
   "outputs": [
    {
     "name": "stdout",
     "output_type": "stream",
     "text": [
      "[['leche'], ['arroz', 'tallarines', 'salsa'], ['agua', 'jugo']]\n"
     ]
    }
   ],
   "source": [
    "compras = [[\"pan\", \"leche\"], [\"arroz\", \"fideos\", \"salsa\"], [\"agua\"]]\n",
    "\n",
    "# a) Agregar \"jugo\" a la lista del tercer cliente usando append.\n",
    "compras[2].append(\"jugo\")\n",
    "\n",
    "# b) Reemplazar \"fideos\" por \"tallarines\" en la lista del segundo cliente.\n",
    "compras[1][1] = \"tallarines\"\n",
    "\n",
    "# c) Eliminar \"pan\" de la lista del primer cliente.\n",
    "compras[0].remove(\"pan\")\n",
    "\n",
    "# d) Imprimir la lista resultante por pantalla\n",
    "print(compras)"
   ]
  },
  {
   "cell_type": "code",
   "execution_count": 14,
   "id": "fb4c747d",
   "metadata": {},
   "outputs": [
    {
     "name": "stdout",
     "output_type": "stream",
     "text": [
      "[15, True, [25.5, 57.9, 30], False]\n"
     ]
    }
   ],
   "source": [
    "lista_anidada = [15, True, [25.5, 57.9, 30], False]\n",
    "\n",
    "print(lista_anidada)\n"
   ]
  }
 ],
 "metadata": {
  "kernelspec": {
   "display_name": "Python 3",
   "language": "python",
   "name": "python3"
  },
  "language_info": {
   "codemirror_mode": {
    "name": "ipython",
    "version": 3
   },
   "file_extension": ".py",
   "mimetype": "text/x-python",
   "name": "python",
   "nbconvert_exporter": "python",
   "pygments_lexer": "ipython3",
   "version": "3.11.9"
  }
 },
 "nbformat": 4,
 "nbformat_minor": 5
}

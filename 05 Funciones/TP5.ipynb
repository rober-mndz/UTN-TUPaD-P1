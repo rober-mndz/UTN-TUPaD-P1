{
 "cells": [
  {
   "cell_type": "code",
   "execution_count": 4,
   "id": "02cfe66e",
   "metadata": {},
   "outputs": [
    {
     "name": "stdout",
     "output_type": "stream",
     "text": [
      "Hola Mundo!\n"
     ]
    }
   ],
   "source": [
    "# 1. Crear una función llamada imprimir_hola_mundo que imprima por\n",
    "# pantalla el mensaje: “Hola Mundo!”. Llamar a esta función desde el\n",
    "# programa principal.\n",
    "\n",
    "def imprimir_hola_mundo():\n",
    "    print(\"Hola Mundo!\")\n",
    "\n",
    "if __name__ == \"__main__\":\n",
    "    imprimir_hola_mundo()"
   ]
  },
  {
   "cell_type": "code",
   "execution_count": 5,
   "id": "22ceb613",
   "metadata": {},
   "outputs": [
    {
     "name": "stdout",
     "output_type": "stream",
     "text": [
      "Hola Rober!\n"
     ]
    }
   ],
   "source": [
    "# 2. Crear una función llamada saludar_usuario(nombre) que reciba\n",
    "# como parámetro un nombre y devuelva un saludo personalizado.\n",
    "# Por ejemplo, si se llama con saludar_usuario(\"Marcos\"), deberá de-\n",
    "# volver: “Hola Marcos!”. Llamar a esta función desde el programa\n",
    "# principal solicitando el nombre al usuario.\n",
    "\n",
    "def saludar_usuario(nombre):\n",
    "    print(f\"Hola {nombre}!\")\n",
    "\n",
    "if __name__ == \"__main__\":\n",
    "    user = input(\"Ingresa tu nombre: \")\n",
    "    saludar_usuario(user)"
   ]
  },
  {
   "cell_type": "code",
   "execution_count": 6,
   "id": "0f7c15d8",
   "metadata": {},
   "outputs": [
    {
     "name": "stdout",
     "output_type": "stream",
     "text": [
      "Soy rober mendez, tengo 22 y vivo en villa.\n"
     ]
    }
   ],
   "source": [
    "# 3. Crear una función llamada informacion_personal(nombre, apellido,\n",
    "# edad, residencia) que reciba cuatro parámetros e imprima: “Soy\n",
    "# [nombre] [apellido], tengo [edad] años y vivo en [residencia]”. Pe-\n",
    "# dir los datos al usuario y llamar a esta función con los valores in-\n",
    "# gresados.\n",
    "\n",
    "def informacion_personal(nombre, apellido, edad, residencia):\n",
    "    print(f\"Soy {nombre} {apellido}, tengo {edad} y vivo en {residencia}.\")\n",
    "    \n",
    "if __name__ == \"__main__\":\n",
    "    nombre = input(\"Ingrese su nombre: \")\n",
    "    apellido = input(\"Ingrese su apellido: \")\n",
    "    edad = input(\"Ingrese su edad: \")\n",
    "    residencia = input(\"Ingrese su residencia: \")\n",
    "    \n",
    "    informacion_personal(nombre, apellido, edad, residencia)"
   ]
  },
  {
   "cell_type": "code",
   "execution_count": null,
   "id": "3b5059d4",
   "metadata": {},
   "outputs": [
    {
     "name": "stdout",
     "output_type": "stream",
     "text": [
      "El area de su circulo es 78.53981633974483 \n",
      " y su perimetro: 31.41592653589793\n"
     ]
    }
   ],
   "source": [
    "# 4. Crear dos funciones: calcular_area_circulo(radio) que reciba el ra-\n",
    "# dio como parámetro y devuelva el área del círculo. calcular_peri-\n",
    "# metro_circulo(radio) que reciba el radio como parámetro y devuel-\n",
    "# va el perímetro del círculo. Solicitar el radio al usuario y llamar am-\n",
    "# bas funciones para mostrar los resultados.\n",
    "import math \n",
    "\n",
    "def calcular_area_circulo(radio):\n",
    "    area = math.pi * radio**2 \n",
    "    return area\n",
    "\n",
    "def calcular_perimetro_circulo(radio):\n",
    "    perimetro = 2*math.pi*radio\n",
    "    return perimetro\n",
    "\n",
    "if __name__ == \"__main__\":\n",
    "    radio = int(input(\"Ingrese el radio del circulo: \"))\n",
    "    print(f\"El area de su circulo es {calcular_area_circulo(radio)} \\n y su perimetro: {calcular_perimetro_circulo(radio)}\")"
   ]
  },
  {
   "cell_type": "code",
   "execution_count": 9,
   "id": "e56c72b3",
   "metadata": {},
   "outputs": [
    {
     "name": "stdout",
     "output_type": "stream",
     "text": [
      "5800 son 1.6111111111111112 horas\n"
     ]
    }
   ],
   "source": [
    "# 5. Crear una función llamada segundos_a_horas(segundos) que reciba\n",
    "# una cantidad de segundos como parámetro y devuelva la cantidad\n",
    "# de horas correspondientes. Solicitar al usuario los segundos y mos-\n",
    "# trar el resultado usando esta función.\n",
    "\n",
    "def segundos_a_horas(seg):\n",
    "    horas = seg/3600\n",
    "    return horas\n",
    "\n",
    "if __name__ == \"__main__\":\n",
    "    segundos = int(input(\"Ingrese la cantidad de segundos: \"))\n",
    "    print(f\"{segundos} son {segundos_a_horas(segundos)} horas\")"
   ]
  },
  {
   "cell_type": "code",
   "execution_count": 10,
   "id": "91877951",
   "metadata": {},
   "outputs": [
    {
     "name": "stdout",
     "output_type": "stream",
     "text": [
      "5\n",
      "10\n",
      "15\n",
      "20\n",
      "25\n",
      "30\n",
      "35\n",
      "40\n",
      "45\n",
      "50\n"
     ]
    }
   ],
   "source": [
    "# 6. Crear una función llamada tabla_multiplicar(numero) que reciba un\n",
    "# número como parámetro y imprima la tabla de multiplicar de ese\n",
    "# número del 1 al 10. Pedir al usuario el número y llamar a la fun-\n",
    "# ción.\n",
    "\n",
    "def tabla_multiplicar(numero):\n",
    "    for i in range(1, 11):\n",
    "        print(numero * i)\n",
    "        \n",
    "if __name__ == \"__main__\":\n",
    "    num = int(input(\"Ingrese un numero: \"))\n",
    "    tabla_multiplicar(num)"
   ]
  },
  {
   "cell_type": "code",
   "execution_count": null,
   "id": "3d017fe4",
   "metadata": {},
   "outputs": [
    {
     "name": "stdout",
     "output_type": "stream",
     "text": [
      "5 + 5 = 10 \n",
      "          \n",
      " 5 - 5 = 0\n",
      "          \n",
      " 5 * 5 = 25\n",
      "          \n",
      " 5 / 5 = 1.0\n"
     ]
    }
   ],
   "source": [
    "# 7. Crear una función llamada operaciones_basicas(a, b) que reciba\n",
    "# dos números como parámetros y devuelva una tupla con el resulta-\n",
    "# do de sumarlos, restarlos, multiplicarlos y dividirlos. Mostrar los re-\n",
    "# sultados de forma clara.\n",
    "\n",
    "def operaciones_basicas(a, b):\n",
    "    suma = a+b\n",
    "    resta = a-b\n",
    "    mult = a*b\n",
    "    div = a/b\n",
    "    \n",
    "    resultados = (suma, resta, mult, div)\n",
    "    return resultados\n",
    "\n",
    "if __name__ == \"__main__\":\n",
    "    num1 = int(input(\"ingrese num 1:\"))\n",
    "    num2 = int(input(\"ingrese num 2:\"))\n",
    "    resultados = operaciones_basicas(num1, num2)\n",
    "    print(f\"\"\"{num1} + {num2} = {resultados[0]} \n",
    "          \\n {num1} - {num2} = {resultados[1]}\n",
    "          \\n {num1} * {num2} = {resultados[2]}\n",
    "          \\n {num1} / {num2} = {resultados[3]}\"\"\")\n",
    "    "
   ]
  },
  {
   "cell_type": "code",
   "execution_count": 16,
   "id": "9a5105f9",
   "metadata": {},
   "outputs": [
    {
     "name": "stdout",
     "output_type": "stream",
     "text": [
      "Su IMC es: 20.13476871862332\n"
     ]
    }
   ],
   "source": [
    "# 8. Crear una función llamada calcular_imc(peso, altura) que reciba el\n",
    "# peso en kilogramos y la altura en metros, y devuelva el índice de\n",
    "# masa corporal (IMC). Solicitar al usuario los datos y llamar a la fun-\n",
    "# ción para mostrar el resultado con dos decimales.\n",
    "\n",
    "def calcular_imc(peso, altura):\n",
    "    imc = peso / (altura)**2\n",
    "    return imc\n",
    "\n",
    "if __name__ == \"__main__\":\n",
    "    peso = int(input(\"Ingrese su peso: \"))\n",
    "    altura = float(input(\"Ingrese su altura: \"))\n",
    "    print(f\"Su IMC es: {calcular_imc(peso, altura)}\")"
   ]
  },
  {
   "cell_type": "code",
   "execution_count": 17,
   "id": "fcbcba8f",
   "metadata": {},
   "outputs": [
    {
     "name": "stdout",
     "output_type": "stream",
     "text": [
      "12 °C son equivalentes a 53.6 °F\n"
     ]
    }
   ],
   "source": [
    "# 9. Crear una función llamada celsius_a_fahrenheit(celsius) que reciba\n",
    "# una temperatura en grados Celsius y devuelva su equivalente en\n",
    "# Fahrenheit. Pedir al usuario la temperatura en Celsius y mostrar el\n",
    "# resultado usando la función.\n",
    "\n",
    "def celsius_a_farenheit(celsius):\n",
    "    farenheit = (celsius * 9/5) + 32\n",
    "    return farenheit\n",
    "\n",
    "if __name__ == \"__main__\":\n",
    "    grados = int(input(\"Ingresa la temperatra en C°: \"))\n",
    "    print(f\"{grados} °C son equivalentes a {celsius_a_farenheit(grados)} °F\")"
   ]
  },
  {
   "cell_type": "code",
   "execution_count": 19,
   "id": "6dcd0ed7",
   "metadata": {},
   "outputs": [
    {
     "name": "stdout",
     "output_type": "stream",
     "text": [
      "El promedio entre: 3, 4, 5 es: 4.0\n"
     ]
    }
   ],
   "source": [
    "# 10.Crear una función llamada calcular_promedio(a, b, c) que reciba\n",
    "# tres números como parámetros y devuelva el promedio de ellos.\n",
    "# Solicitar los números al usuario y mostrar el resultado usando esta\n",
    "# función.\n",
    "\n",
    "def calcular_promedio(a, b, c):\n",
    "    promedio = (a + b + c) / 3\n",
    "    return promedio\n",
    "\n",
    "if __name__ == \"__main__\":\n",
    "    num1 = int(input(\"Ingresa num1: \"))\n",
    "    num2 = int(input(\"Ingresa num2: \"))\n",
    "    num3 = int(input(\"Ingresa num3: \"))\n",
    "    print(f\"El promedio entre: {num1}, {num2}, {num3} es: {calcular_promedio(num1, num2, num3)}\")"
   ]
  }
 ],
 "metadata": {
  "language_info": {
   "name": "python"
  }
 },
 "nbformat": 4,
 "nbformat_minor": 5
}

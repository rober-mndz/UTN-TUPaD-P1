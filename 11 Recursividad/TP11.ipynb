{
 "cells": [
  {
   "cell_type": "code",
   "execution_count": 1,
   "id": "e8f71245",
   "metadata": {},
   "outputs": [
    {
     "name": "stdout",
     "output_type": "stream",
     "text": [
      "1\n",
      "2\n",
      "6\n",
      "24\n",
      "120\n"
     ]
    }
   ],
   "source": [
    "# 1) Crea una función recursiva que calcule el factorial de un número. Luego, utiliza esa \n",
    "# función para calcular y mostrar en pantalla el factorial de todos los números enteros \n",
    "# entre 1 y el número que indique el usuario \n",
    "\n",
    "def factorial(num):\n",
    "    if num == 0 or num == 1:\n",
    "        return 1\n",
    "    else:\n",
    "        return num * factorial(num - 1)\n",
    "    \n",
    "if __name__ == \"__main__\":\n",
    "    num = int(input(\"Ingrese un numero: \"))\n",
    "    for i in range(1, num + 1):\n",
    "        print(factorial(i))\n",
    "    "
   ]
  },
  {
   "cell_type": "code",
   "execution_count": 4,
   "id": "31d8d33d",
   "metadata": {},
   "outputs": [
    {
     "name": "stdout",
     "output_type": "stream",
     "text": [
      "2\n"
     ]
    }
   ],
   "source": [
    "# 2) Crea una función recursiva que calcule el valor de la serie de Fibonacci en la posición \n",
    "# indicada. Posteriormente, muestra la serie completa hasta la posición que el usuario \n",
    "# especifique. \n",
    "\n",
    "def fibonacci(pos):\n",
    "    if pos <= 0:\n",
    "        return 1\n",
    "    elif pos == 1:\n",
    "        return 0\n",
    "    else:\n",
    "        return fibonacci(pos-1) + fibonacci(pos-2)\n",
    "\n",
    "    \n",
    "if __name__ == \"__main__\":\n",
    "    num = int(input(\"Ingresa la posicion:\"))\n",
    "    print(fibonacci(num))"
   ]
  }
 ],
 "metadata": {
  "kernelspec": {
   "display_name": "Python 3",
   "language": "python",
   "name": "python3"
  },
  "language_info": {
   "codemirror_mode": {
    "name": "ipython",
    "version": 3
   },
   "file_extension": ".py",
   "mimetype": "text/x-python",
   "name": "python",
   "nbconvert_exporter": "python",
   "pygments_lexer": "ipython3",
   "version": "3.13.3"
  }
 },
 "nbformat": 4,
 "nbformat_minor": 5
}

{
 "cells": [
  {
   "cell_type": "code",
   "execution_count": 12,
   "id": "e961ff53",
   "metadata": {},
   "outputs": [
    {
     "name": "stdout",
     "output_type": "stream",
     "text": [
      "iteracion exterior: 1  iteracion interior: 1  iteracion interior: 2 iteracion exterior: 2  iteracion interior: 1  iteracion interior: 2 "
     ]
    }
   ],
   "source": [
    "i = 1\n",
    "while i<=2:\n",
    "    print(\"iteracion exterior:\", i, end=\" \")\n",
    "    j =1 \n",
    "    bandera= True\n",
    "    while bandera:\n",
    "        print(\" iteracion interior:\", j, end=\" \")\n",
    "        j+=1\n",
    "        if j!=2:\n",
    "            bandera =False\n",
    "    i=i+1\n"
   ]
  },
  {
   "cell_type": "code",
   "execution_count": 25,
   "id": "9ca60f6b",
   "metadata": {},
   "outputs": [
    {
     "name": "stdout",
     "output_type": "stream",
     "text": [
      "123246"
     ]
    }
   ],
   "source": [
    "for t in range(1,3):\n",
    "    for n in range(1,4):\n",
    "        print(t * n,end=\"\")"
   ]
  },
  {
   "cell_type": "code",
   "execution_count": 58,
   "id": "22bba050",
   "metadata": {},
   "outputs": [
    {
     "name": "stdout",
     "output_type": "stream",
     "text": [
      "6\n"
     ]
    }
   ],
   "source": [
    "lista = [0, 0, 0, 0, 0, 0, 0, 0, 0, 0, 0, 0, 0, 0, 0, 0]\n",
    "\n",
    "lista[0]= 1\n",
    "lista[1]= 1\n",
    "lista[2]= 1\n",
    "lista[3]= 2\n",
    "lista[4]= 1\n",
    "\n",
    "n=5\n",
    "r=0\n",
    "\n",
    "if n == 0:\n",
    "    r=0\n",
    "else:\n",
    "    r = lista[n-1]\n",
    "    for i in range(n-1, 0, -1):\n",
    "        r += lista[i-1]\n",
    "\n",
    "print(r)"
   ]
  },
  {
   "cell_type": "code",
   "execution_count": 64,
   "id": "0fdf594b",
   "metadata": {},
   "outputs": [
    {
     "name": "stdout",
     "output_type": "stream",
     "text": [
      "ruel\n"
     ]
    }
   ],
   "source": [
    "f=\"HolaMundoCruel\"\n",
    "r=f\n",
    "l=len(f)\n",
    "\n",
    "for i in range(0, l + 1, 5):\n",
    "    r = f[i:l]\n",
    "\n",
    "print(r)"
   ]
  },
  {
   "cell_type": "code",
   "execution_count": 72,
   "id": "75d7b481",
   "metadata": {},
   "outputs": [
    {
     "name": "stdout",
     "output_type": "stream",
     "text": [
      "1 2 3 5 7 "
     ]
    }
   ],
   "source": [
    "for n in range(1,11):\n",
    "    bandera=False\n",
    "    d=0\n",
    "    \n",
    "    for c in range(1,n+1):\n",
    "        if n%c==0:\n",
    "            d+=1\n",
    "\n",
    "            if d <= 2:\n",
    "                bandera=True\n",
    "            else:\n",
    "                bandera=False\n",
    "\n",
    "    if bandera:\n",
    "        (print(n, end=\" \"))"
   ]
  },
  {
   "cell_type": "code",
   "execution_count": 82,
   "id": "24c1759b",
   "metadata": {},
   "outputs": [
    {
     "name": "stdout",
     "output_type": "stream",
     "text": [
      "1\n"
     ]
    }
   ],
   "source": [
    "## ej 6\n",
    "N = 5\n",
    "A = [0] * N\n",
    "B = [0] * N\n",
    "\n",
    "for i in range(N):\n",
    "    A[i] = i + i + i  # A[i] = 3 * i\n",
    "\n",
    "for i in range(N):\n",
    "    B[i] = i * 2\n",
    "\n",
    "contador = 0\n",
    "for i in range(N):\n",
    "    if A[0] == A[i] and A[0] == B[i]:\n",
    "        contador += 1\n",
    "        N = N - contador\n",
    "\n",
    "\n",
    "resultado = str(contador)\n",
    "\n",
    "if A[0] == 1:\n",
    "    resultado = \"VERDADERO\"\n",
    "elif A[0] == 2:\n",
    "    resultado = \"2\"\n",
    "elif A[0] == 3:\n",
    "    resultado = \"FALSO\"\n",
    "\n",
    "print(resultado)\n"
   ]
  },
  {
   "cell_type": "code",
   "execution_count": 86,
   "id": "19ee5f74",
   "metadata": {},
   "outputs": [
    {
     "name": "stdout",
     "output_type": "stream",
     "text": [
      "resultado final: 51\n"
     ]
    }
   ],
   "source": [
    "## ej 7\n",
    "\n",
    "num1 = 3\n",
    "num2 = 7\n",
    "num3 = 4\n",
    "\n",
    "if num2 % 2 == 0:\n",
    "    x = num2 * 2\n",
    "else:\n",
    "    x = num2 * 3\n",
    "\n",
    "if x % 2 == 0:\n",
    "    t = x + num3\n",
    "else:\n",
    "    t = x - num3\n",
    "\n",
    "if t > 10:\n",
    "    resultado_final = t * num1\n",
    "else:\n",
    "    resultado_final = t + num1\n",
    "\n",
    "print(f\"resultado final: {resultado_final}\")"
   ]
  },
  {
   "cell_type": "code",
   "execution_count": 89,
   "id": "1fac8a0b",
   "metadata": {},
   "outputs": [
    {
     "name": "stdout",
     "output_type": "stream",
     "text": [
      "5"
     ]
    }
   ],
   "source": [
    "# Inicialización de las variables\n",
    "contador = 1\n",
    "suma = 0\n",
    "bandera = True  # Bandera inicializada como True\n",
    "\n",
    "num1 = int(input(\"Ingrese un valor N°1: \"))\n",
    "\n",
    "while bandera:\n",
    "    num2 = int(input(\"Ingrese un valor N°2: \"))\n",
    "    suma = suma + num2\n",
    "    contador += 1\n",
    "\n",
    "    while contador <= num1:  # Bucle para controlar las repeticiones\n",
    "        print(suma, end=\"\")  # Eliminar la coma\n",
    "        bandera = False\n",
    "        if contador == num1:  # Condición para evitar reactivar el bucle principal\n",
    "            bandera = False  # Mantener bandera en False\n",
    "        break  # Salir del bucle anidado"
   ]
  },
  {
   "cell_type": "code",
   "execution_count": 92,
   "id": "1100dbce",
   "metadata": {},
   "outputs": [
    {
     "name": "stdout",
     "output_type": "stream",
     "text": [
      "6\n"
     ]
    }
   ],
   "source": [
    "num1 = 3\n",
    "vector = [4, 6, 1]\n",
    "\n",
    "mayor = vector[0]\n",
    "\n",
    "for i in range (1, num1):\n",
    "    if vector[i] > mayor:\n",
    "        mayor = vector[i]\n",
    "\n",
    "print(mayor)"
   ]
  },
  {
   "cell_type": "code",
   "execution_count": 93,
   "id": "3e16ce3d",
   "metadata": {},
   "outputs": [
    {
     "name": "stdout",
     "output_type": "stream",
     "text": [
      "D\n"
     ]
    }
   ],
   "source": [
    "# Entrada de datos  \n",
    "día = int(input(\"Introduce el valor N°1: \"))  \n",
    "mes = int(input(\"Introduce el valor N°2: \"))  \n",
    "anio = int(input(\"Introduce el valor N°3: \"))  \n",
    "\n",
    "if mes in [1, 3, 5, 7, 8, 10, 12]:  # Operador: in\n",
    "    dd = 31  \n",
    "elif mes in [4, 6, 9, 11]:          # Operador: in\n",
    "    dd = 30  \n",
    "elif mes == 2:                       # Operador: ==\n",
    "    if (anio % 4 == 0 and anio % 100 != 0) or (anio % 400 == 0):  \n",
    "        dd = 29  \n",
    "    else:  \n",
    "        dd = 28  \n",
    "else:  \n",
    "    print(\"A\")  \n",
    "    dd = -1  \n",
    "\n",
    "if dd != -1:                        # Operador: !=\n",
    "    if día < 1 or día > dd:  \n",
    "        print(\"B\")  \n",
    "    elif mes < 1 or mes > 12:  \n",
    "        print(\"C\")  \n",
    "    else:  \n",
    "        print(\"D\")                  # Salida deseada"
   ]
  }
 ],
 "metadata": {
  "kernelspec": {
   "display_name": "Python 3",
   "language": "python",
   "name": "python3"
  },
  "language_info": {
   "codemirror_mode": {
    "name": "ipython",
    "version": 3
   },
   "file_extension": ".py",
   "mimetype": "text/x-python",
   "name": "python",
   "nbconvert_exporter": "python",
   "pygments_lexer": "ipython3",
   "version": "3.11.9"
  }
 },
 "nbformat": 4,
 "nbformat_minor": 5
}
